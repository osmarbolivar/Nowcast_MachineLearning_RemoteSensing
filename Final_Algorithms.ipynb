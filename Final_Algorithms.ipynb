{
  "nbformat": 4,
  "nbformat_minor": 0,
  "metadata": {
    "colab": {
      "provenance": [],
      "toc_visible": true,
      "authorship_tag": "ABX9TyOOHfoB+UXmFSnNPo5xv6Zg",
      "include_colab_link": true
    },
    "kernelspec": {
      "name": "python3",
      "display_name": "Python 3"
    },
    "language_info": {
      "name": "python"
    },
    "gpuClass": "standard"
  },
  "cells": [
    {
      "cell_type": "markdown",
      "metadata": {
        "id": "view-in-github",
        "colab_type": "text"
      },
      "source": [
        "<a href=\"https://colab.research.google.com/github/osmarbolivar/Nowcast_MachineLearning_RemoteSensing/blob/main/Final_Algorithms.ipynb\" target=\"_parent\"><img src=\"https://colab.research.google.com/assets/colab-badge.svg\" alt=\"Open In Colab\"/></a>"
      ]
    },
    {
      "cell_type": "markdown",
      "source": [
        "# **GDP Nowcasting: A machine learning and remote sensing data-based approach for Bolivia - ALGORITHMS**\n",
        "\n",
        "**Author:** Osmar Bolivar"
      ],
      "metadata": {
        "id": "xtl4uThVHXle"
      }
    },
    {
      "cell_type": "markdown",
      "source": [
        "## **1. Data**"
      ],
      "metadata": {
        "id": "Pv06qGs3HjiA"
      }
    },
    {
      "cell_type": "code",
      "execution_count": 91,
      "metadata": {
        "colab": {
          "base_uri": "https://localhost:8080/"
        },
        "id": "BnfBrskkErZR",
        "outputId": "eb6d50b0-25f1-44a1-b068-faff3561b234"
      },
      "outputs": [
        {
          "output_type": "stream",
          "name": "stdout",
          "text": [
            "Drive already mounted at /content/drive; to attempt to forcibly remount, call drive.mount(\"/content/drive\", force_remount=True).\n"
          ]
        }
      ],
      "source": [
        "import numpy as np\n",
        "import pandas as pd\n",
        "import matplotlib\n",
        "import matplotlib.pyplot as plt\n",
        "import matplotlib.dates as mdates\n",
        "import seaborn as sns\n",
        "import plotly.graph_objects as go\n",
        "import statsmodels.api as sm\n",
        "from sklearn.preprocessing import StandardScaler\n",
        "\n",
        "from google.colab import drive\n",
        "drive.mount('/content/drive')"
      ]
    },
    {
      "cell_type": "markdown",
      "source": [
        "Load raw data"
      ],
      "metadata": {
        "id": "4wkpg0gnHptZ"
      }
    },
    {
      "cell_type": "code",
      "source": [
        "raw = pd.read_excel('drive/MyDrive/Research/GDP Nowcast/LAJCB/Final CODES/raw0.xlsx', index_col=0)\n",
        "train = pd.read_csv('drive/MyDrive/Research/GDP Nowcast/LAJCB/Final CODES/train_set.csv', index_col=0)\n",
        "validation = pd.read_csv('drive/MyDrive/Research/GDP Nowcast/LAJCB/Final CODES/validation_set.csv', index_col=0)\n",
        "test = pd.read_csv('drive/MyDrive/Research/GDP Nowcast/LAJCB/Final CODES/test_set.csv', index_col=0)"
      ],
      "metadata": {
        "id": "FaG1BDD1H2VT"
      },
      "execution_count": 92,
      "outputs": []
    },
    {
      "cell_type": "markdown",
      "source": [
        "Define the features and target variable for the model (training, validation)"
      ],
      "metadata": {
        "id": "nMPFYNXKMy29"
      }
    },
    {
      "cell_type": "code",
      "source": [
        "scaler = StandardScaler()\n",
        "train_scaled = pd.DataFrame(scaler.fit_transform(train), columns=train.columns, index=train.index)\n",
        "validation_scaled = pd.DataFrame(scaler.transform(validation), columns=validation.columns, index=validation.index)\n",
        "test_scaled = pd.DataFrame(scaler.transform(test), columns=test.columns, index=test.index)\n",
        "\n",
        "X_train = train_scaled.drop('igae', axis=1)\n",
        "y_train = train_scaled['igae']\n",
        "\n",
        "X_validation = validation_scaled.drop('igae', axis=1)\n",
        "y_validation = validation_scaled['igae']\n",
        "\n",
        "X_test = test_scaled.drop('igae', axis=1)"
      ],
      "metadata": {
        "id": "66F8L8hmMzdt"
      },
      "execution_count": 93,
      "outputs": []
    },
    {
      "cell_type": "markdown",
      "source": [
        "## **2. Algorithms**"
      ],
      "metadata": {
        "id": "fndH6M6qMnZG"
      }
    },
    {
      "cell_type": "code",
      "source": [
        "from sklearn.metrics import mean_squared_error, mean_absolute_error\n",
        "from sklearn.model_selection import GridSearchCV\n",
        "from sklearn.model_selection import TimeSeriesSplit\n",
        "from sklearn.linear_model import Ridge\n",
        "from sklearn.linear_model import Lasso\n",
        "from sklearn.linear_model import ElasticNet\n",
        "from sklearn.tree import DecisionTreeRegressor\n",
        "from sklearn.ensemble import AdaBoostRegressor\n",
        "from sklearn.ensemble import GradientBoostingRegressor\n",
        "from sklearn.ensemble import RandomForestRegressor\n",
        "from sklearn.ensemble import ExtraTreesRegressor"
      ],
      "metadata": {
        "id": "EFVKS3aTQzCl"
      },
      "execution_count": 94,
      "outputs": []
    },
    {
      "cell_type": "markdown",
      "source": [
        "### **2.1. Ridge Regression**"
      ],
      "metadata": {
        "id": "k28WhaekKsu_"
      }
    },
    {
      "cell_type": "code",
      "source": [
        "igae_nowcast = pd.DataFrame(\n",
        "    {\"igae\": raw.loc['2013-04-01':, 'igae']}, index=raw.loc['2013-04-01':, :].index)"
      ],
      "metadata": {
        "id": "-mAR3jxMAJqd"
      },
      "execution_count": 95,
      "outputs": []
    },
    {
      "cell_type": "code",
      "source": [
        "# Instantiate Ridge model\n",
        "#ridge = Ridge()\n",
        "ridge = Ridge(alpha=14.508, random_state=0)\n",
        "\n",
        "# Fit Ridge on training set\n",
        "ridge.fit(X_train, y_train)\n",
        "\n",
        "# Make predictions on validation set using best model from GridSearchCV\n",
        "y_val_pred_ridge = ridge.predict(X_validation)\n",
        "\n",
        "# Calculate RMSE on validation set\n",
        "mse_val_ridge = mean_squared_error(y_validation, y_val_pred_ridge, squared=True)\n",
        "rmse_val_ridge = mean_squared_error(y_validation, y_val_pred_ridge, squared=False)\n",
        "mae_val_ridge = mean_absolute_error(y_validation, y_val_pred_ridge)\n",
        "print(\"Validation MSE: \", mse_val_ridge)\n",
        "print(\"Validation RMSE: \", rmse_val_ridge)\n",
        "print(\"Validation MAE: \", mae_val_ridge)\n",
        "\n",
        "# Make predictions on test set using best model from GridSearchCV\n",
        "y_test_pred_ridge = ridge.predict(X_test)\n",
        "\n",
        "# Convert scaled predictions back to original units\n",
        "y_test_final_ridge = y_test_pred_ridge * train.std()[0] + train.mean()[0]\n",
        "\n",
        "igae_nowcast['ridge'] = igae_nowcast['igae']\n",
        "num_months = len(y_test_final_ridge[:-3] )\n",
        "for i in range(num_months):\n",
        "  j = i+1\n",
        "  igae_nowcast['ridge'][j] = igae_nowcast['igae'][i] * (1 + y_test_final_ridge[i])\n",
        "\n",
        "igae_nowcast['ridge'][-3] = igae_nowcast['ridge'][-4] * (1 + y_test_final_ridge[-3])\n",
        "igae_nowcast['ridge'][-2] = igae_nowcast['ridge'][-3] * (1 + y_test_final_ridge[-2])\n",
        "igae_nowcast['ridge'][-1] = igae_nowcast['ridge'][-2] * (1 + y_test_final_ridge[-1])"
      ],
      "metadata": {
        "colab": {
          "base_uri": "https://localhost:8080/"
        },
        "id": "UpnpxwBaA5fO",
        "outputId": "543e1e17-eefa-4b80-e81f-98f10f24836b"
      },
      "execution_count": 96,
      "outputs": [
        {
          "output_type": "stream",
          "name": "stdout",
          "text": [
            "Validation MSE:  0.29776090351032525\n",
            "Validation RMSE:  0.545674723173362\n",
            "Validation MAE:  0.3572025426069512\n"
          ]
        }
      ]
    },
    {
      "cell_type": "code",
      "source": [
        "# Get the coefficients from the Ridge model\n",
        "coef = ridge.coef_\n",
        "feature_importance_ridge = pd.DataFrame({'Feature': X_train.columns, 'Importance': coef})\n",
        "feature_importance_ridge = feature_importance_ridge.sort_values('Importance', ascending=False).reset_index(drop=True)\n",
        "feature_importance_ridge.columns = ['feat', 'imp_ridge']"
      ],
      "metadata": {
        "id": "UCefaugKcscM"
      },
      "execution_count": 97,
      "outputs": []
    },
    {
      "cell_type": "markdown",
      "source": [
        "### **2.2. Lasso Regression**"
      ],
      "metadata": {
        "id": "uCiamAZLf0Ba"
      }
    },
    {
      "cell_type": "code",
      "source": [
        "# Define the Lasso model with default parameters\n",
        "#lasso = Lasso()\n",
        "lasso = Lasso(alpha=0.010722672220103232, random_state=0)\n",
        "\n",
        "# Fit the model on the training set\n",
        "lasso.fit(X_train, y_train)\n",
        "\n",
        "# Make predictions on the validation set\n",
        "y_val_pred_lasso = lasso.predict(X_validation)\n",
        "\n",
        "# Calculate RMSE on validation set\n",
        "mse_val_lasso = mean_squared_error(y_validation, y_val_pred_lasso, squared=True)\n",
        "rmse_val_lasso = mean_squared_error(y_validation, y_val_pred_lasso, squared=False)\n",
        "mae_val_lasso = mean_absolute_error(y_validation, y_val_pred_lasso)\n",
        "print(\"Validation MSE: \", mse_val_lasso)\n",
        "print(\"Validation RMSE: \", rmse_val_lasso)\n",
        "print(\"Validation MAE: \", mae_val_lasso)\n",
        "\n",
        "# Evaluate the model on the test set\n",
        "y_test_pred_lasso = lasso.predict(X_test)\n",
        "\n",
        "# Convert scaled predictions back to original units\n",
        "y_test_final_lasso = y_test_pred_lasso * train.std()[0] + train.mean()[0]\n",
        "\n",
        "igae_nowcast['lasso'] = igae_nowcast['igae']\n",
        "for i in range(num_months):\n",
        "  j = i+1\n",
        "  igae_nowcast['lasso'][j] = igae_nowcast['igae'][i] * (1 + y_test_final_lasso[i])\n",
        "\n",
        "igae_nowcast['lasso'][-3] = igae_nowcast['lasso'][-4] * (1 + y_test_final_lasso[-3])\n",
        "igae_nowcast['lasso'][-2] = igae_nowcast['lasso'][-3] * (1 + y_test_final_lasso[-2])\n",
        "igae_nowcast['lasso'][-1] = igae_nowcast['lasso'][-2] * (1 + y_test_final_lasso[-1])"
      ],
      "metadata": {
        "colab": {
          "base_uri": "https://localhost:8080/"
        },
        "id": "WkSBwqVNGT44",
        "outputId": "6dc8702f-f8da-4ad5-f6b8-6ee218564504"
      },
      "execution_count": 98,
      "outputs": [
        {
          "output_type": "stream",
          "name": "stdout",
          "text": [
            "Validation MSE:  0.42192330718199045\n",
            "Validation RMSE:  0.649556238659895\n",
            "Validation MAE:  0.378012472089024\n"
          ]
        }
      ]
    },
    {
      "cell_type": "code",
      "source": [
        "# Get the coefficients from the Ridge model\n",
        "coef = lasso.coef_\n",
        "feature_importance_lasso = pd.DataFrame({'Feature': X_train.columns, 'Importance': coef})\n",
        "feature_importance_lasso = feature_importance_lasso.sort_values('Importance', ascending=False).reset_index(drop=True)\n",
        "feature_importance_lasso.columns = ['feat', 'imp_lasso']"
      ],
      "metadata": {
        "id": "zDnvj4eVun_C"
      },
      "execution_count": 99,
      "outputs": []
    },
    {
      "cell_type": "markdown",
      "source": [
        "### **2.3. ElasticNet**"
      ],
      "metadata": {
        "id": "9AYjEiEdf0tA"
      }
    },
    {
      "cell_type": "code",
      "source": [
        "# Define the ElasticNet model\n",
        "#elastic_net = ElasticNet()\n",
        "elastic_net = ElasticNet(alpha=0.087, l1_ratio=0.11, random_state=0)\n",
        "\n",
        "# Fit the ElasticNet model to the training data\n",
        "elastic_net.fit(X_train, y_train)\n",
        "\n",
        "# Evaluate the ElasticNet model on the validation and test data\n",
        "y_val_pred_enet = elastic_net.predict(X_validation)\n",
        "# Calculate RMSE on validation set\n",
        "mse_val_enet = mean_squared_error(y_validation, y_val_pred_enet, squared=True)\n",
        "rmse_val_enet = mean_squared_error(y_validation, y_val_pred_enet, squared=False)\n",
        "mae_val_enet = mean_absolute_error(y_validation, y_val_pred_enet)\n",
        "print(\"Validation MSE: \", mse_val_enet)\n",
        "print(\"Validation RMSE: \", rmse_val_enet)\n",
        "print(\"Validation MAE: \", mae_val_enet)\n",
        "\n",
        "# Evaluate the model on the test set\n",
        "y_test_pred_enet = elastic_net.predict(X_test)\n",
        "\n",
        "# Convert scaled predictions back to original units\n",
        "y_test_final_enet = y_test_pred_enet * train.std()[0] + train.mean()[0]\n",
        "\n",
        "igae_nowcast['enet'] = igae_nowcast['igae']\n",
        "for i in range(num_months):\n",
        "  j = i+1\n",
        "  igae_nowcast['enet'][j] = igae_nowcast['igae'][i] * (1 + y_test_final_enet[i])\n",
        "\n",
        "igae_nowcast['enet'][-3] = igae_nowcast['enet'][-4] * (1 + y_test_final_enet[-3])\n",
        "igae_nowcast['enet'][-2] = igae_nowcast['enet'][-3] * (1 + y_test_final_enet[-2])\n",
        "igae_nowcast['enet'][-1] = igae_nowcast['enet'][-2] * (1 + y_test_final_enet[-1])"
      ],
      "metadata": {
        "colab": {
          "base_uri": "https://localhost:8080/"
        },
        "id": "_r988WDXHjYZ",
        "outputId": "6a9a632e-b189-483d-976d-9017bb47e91b"
      },
      "execution_count": 100,
      "outputs": [
        {
          "output_type": "stream",
          "name": "stdout",
          "text": [
            "Validation MSE:  0.35010819403700205\n",
            "Validation RMSE:  0.5916994118950957\n",
            "Validation MAE:  0.3763873181967723\n"
          ]
        }
      ]
    },
    {
      "cell_type": "code",
      "source": [
        "# Get the coefficients from the Ridge model\n",
        "coef = elastic_net.coef_\n",
        "feature_importance_en = pd.DataFrame({'Feature': X_train.columns, 'Importance': coef})\n",
        "feature_importance_en = feature_importance_en.sort_values('Importance', ascending=False).reset_index(drop=True)\n",
        "feature_importance_en.columns = ['feat', 'imp_en']"
      ],
      "metadata": {
        "id": "ZRsH0jMJ2_cc"
      },
      "execution_count": 101,
      "outputs": []
    },
    {
      "cell_type": "markdown",
      "source": [
        "### **2.4 Decision Tree Regressor**"
      ],
      "metadata": {
        "id": "FliX1vGx0bn-"
      }
    },
    {
      "cell_type": "code",
      "source": [
        "# Define the model with default parameters\n",
        "#dt = DecisionTreeRegressor(random_state=42)\n",
        "dt = DecisionTreeRegressor(random_state=42, max_depth=4)\n",
        "\n",
        "# Fit the model to the data\n",
        "dt.fit(X_train, y_train)\n",
        "\n",
        "# Make predictions on the validation set\n",
        "y_val_pred_dt = dt.predict(X_validation)\n",
        "\n",
        "# Evaluate the model on the validation set\n",
        "mse_val_dt = mean_squared_error(y_validation, y_val_pred_dt, squared=True)\n",
        "rmse_val_dt = mean_squared_error(y_validation, y_val_pred_dt, squared=False)\n",
        "mae_val_dt = mean_absolute_error(y_validation, y_val_pred_dt)\n",
        "print(\"Validation MSE: \", mse_val_dt)\n",
        "print(\"Validation RMSE: \", rmse_val_dt)\n",
        "print(\"Validation MAE: \", mae_val_dt)\n",
        "\n",
        "# Evaluate the model on the test set\n",
        "y_test_pred_dt = dt.predict(X_test)\n",
        "\n",
        "# Convert scaled predictions back to original units\n",
        "y_test_final_dt = y_test_pred_dt * train.std()[0] + train.mean()[0]\n",
        "\n",
        "igae_nowcast['dt'] = igae_nowcast['igae']\n",
        "for i in range(num_months):\n",
        "  j = i+1\n",
        "  igae_nowcast['dt'][j] = igae_nowcast['igae'][i] * (1 + y_test_final_dt[i])\n",
        "\n",
        "igae_nowcast['dt'][-3] = igae_nowcast['dt'][-4] * (1 + y_test_final_dt[-3])\n",
        "igae_nowcast['dt'][-2] = igae_nowcast['dt'][-3] * (1 + y_test_final_dt[-2])\n",
        "igae_nowcast['dt'][-1] = igae_nowcast['dt'][-2] * (1 + y_test_final_dt[-1])"
      ],
      "metadata": {
        "colab": {
          "base_uri": "https://localhost:8080/"
        },
        "id": "TE0l4lCmRuWA",
        "outputId": "e5383b19-8cd9-4742-d3fe-0f5fd632fc68"
      },
      "execution_count": 102,
      "outputs": [
        {
          "output_type": "stream",
          "name": "stdout",
          "text": [
            "Validation MSE:  0.7132696055690861\n",
            "Validation RMSE:  0.8445529027651768\n",
            "Validation MAE:  0.42039508905074213\n"
          ]
        }
      ]
    },
    {
      "cell_type": "code",
      "source": [
        "# Get feature importance scores\n",
        "importances = dt.feature_importances_\n",
        "feature_importance_dt = pd.DataFrame({\"feature\": X_train.columns, \"importance\": importances})\n",
        "feature_importance_dt = feature_importance_dt.sort_values(\"importance\", ascending=False).reset_index(drop=True)\n",
        "feature_importance_dt.columns = ['feat', 'imp_dt']"
      ],
      "metadata": {
        "id": "WIXmlJaH3Cf3"
      },
      "execution_count": 103,
      "outputs": []
    },
    {
      "cell_type": "markdown",
      "source": [
        "### **2.6. AdaBoost Regressor**"
      ],
      "metadata": {
        "id": "4K2dLiSFJic_"
      }
    },
    {
      "cell_type": "code",
      "source": [
        "# Define the AdaBoost Regressor with default parameters\n",
        "#ada = AdaBoostRegressor(random_state=0)\n",
        "ada = AdaBoostRegressor(estimator=DecisionTreeRegressor(max_depth=5),learning_rate=2.1,loss='exponential',n_estimators=60,random_state=0)\n",
        "\n",
        "# Fit the model on training data\n",
        "ada.fit(X_train, y_train)\n",
        "\n",
        "# Make predictions on the validation set\n",
        "y_val_pred_ada = ada.predict(X_validation)\n",
        "\n",
        "# Evaluate the model on the validation set\n",
        "mse_val_ada = mean_squared_error(y_validation, y_val_pred_ada, squared=True)\n",
        "rmse_val_ada = mean_squared_error(y_validation, y_val_pred_ada, squared=False)\n",
        "mae_val_ada = mean_absolute_error(y_validation, y_val_pred_ada)\n",
        "print(\"Validation MSE: \", mse_val_ada)\n",
        "print(\"Validation RMSE: \", rmse_val_ada)\n",
        "print(\"Validation MAE: \", mae_val_ada)\n",
        "\n",
        "# Evaluate the model on the test set\n",
        "y_test_pred_ada = ada.predict(X_test)\n",
        "\n",
        "# Convert scaled predictions back to original units\n",
        "y_test_final_ada = y_test_pred_ada * train.std()[0] + train.mean()[0]\n",
        "\n",
        "igae_nowcast['ada'] = igae_nowcast['igae']\n",
        "for i in range(num_months):\n",
        "  j = i+1\n",
        "  igae_nowcast['ada'][j] = igae_nowcast['igae'][i] * (1 + y_test_final_ada[i])\n",
        "\n",
        "igae_nowcast['ada'][-3] = igae_nowcast['ada'][-4] * (1 + y_test_final_ada[-3])\n",
        "igae_nowcast['ada'][-2] = igae_nowcast['ada'][-3] * (1 + y_test_final_ada[-2])\n",
        "igae_nowcast['ada'][-1] = igae_nowcast['ada'][-2] * (1 + y_test_final_ada[-1])"
      ],
      "metadata": {
        "colab": {
          "base_uri": "https://localhost:8080/"
        },
        "id": "F13KvHeyrfPk",
        "outputId": "da1a7b50-518a-4881-9c8f-6cc42a7026bb"
      },
      "execution_count": 104,
      "outputs": [
        {
          "output_type": "stream",
          "name": "stdout",
          "text": [
            "Validation MSE:  0.5239494754816324\n",
            "Validation RMSE:  0.7238435435103586\n",
            "Validation MAE:  0.33257781611253423\n"
          ]
        }
      ]
    },
    {
      "cell_type": "code",
      "source": [
        "# Create a DataFrame with the feature importance values\n",
        "feature_importance_ada = pd.DataFrame({'Feature': X_train.columns, 'Importance': ada.feature_importances_})\n",
        "feature_importance_ada = feature_importance_ada.sort_values(by='Importance', ascending=False).reset_index(drop=True)\n",
        "feature_importance_ada.columns = ['feat', 'imp_ada']"
      ],
      "metadata": {
        "id": "8PKDPP9T3v0-"
      },
      "execution_count": 105,
      "outputs": []
    },
    {
      "cell_type": "markdown",
      "source": [
        "### **2.7. Gradient Boost Regressor**"
      ],
      "metadata": {
        "id": "Cs6Q-I1pUsmt"
      }
    },
    {
      "cell_type": "code",
      "source": [
        "# Define the model\n",
        "#gbr = GradientBoostingRegressor()\n",
        "gbr = GradientBoostingRegressor(max_depth=7, min_samples_split=10, n_estimators=135, random_state=123, subsample=0.4)\n",
        "\n",
        "# Fit the model on the training set\n",
        "gbr.fit(X_train, y_train)\n",
        "\n",
        "y_val_pred_gbr = gbr.predict(X_validation)\n",
        "\n",
        "# Compute the mean squared error of the predictions on the validation set\n",
        "mse_val_gbr = mean_squared_error(y_validation, y_val_pred_gbr, squared=True)\n",
        "rmse_val_gbr = mean_squared_error(y_validation, y_val_pred_gbr, squared=False)\n",
        "mae_val_gbr = mean_absolute_error(y_validation, y_val_pred_gbr)\n",
        "print(\"Validation MSE: \", mse_val_gbr)\n",
        "print(\"Validation RMSE: \", rmse_val_gbr)\n",
        "print(\"Validation MAE: \", mae_val_gbr)\n",
        "\n",
        "# Use the model to make predictions on the test set\n",
        "y_test_pred_gbr = gbr.predict(X_test)\n",
        "\n",
        "# Convert scaled predictions back to original units\n",
        "y_test_final_gbr = y_test_pred_gbr * train.std()[0] + train.mean()[0]\n",
        "\n",
        "igae_nowcast['gbr'] = igae_nowcast['igae']\n",
        "for i in range(num_months):\n",
        "  j = i+1\n",
        "  igae_nowcast['gbr'][j] = igae_nowcast['igae'][i] * (1 + y_test_final_gbr[i])\n",
        "\n",
        "igae_nowcast['gbr'][-3] = igae_nowcast['gbr'][-4] * (1 + y_test_final_gbr[-3])\n",
        "igae_nowcast['gbr'][-2] = igae_nowcast['gbr'][-3] * (1 + y_test_final_gbr[-2])\n",
        "igae_nowcast['gbr'][-1] = igae_nowcast['gbr'][-2] * (1 + y_test_final_gbr[-1])"
      ],
      "metadata": {
        "colab": {
          "base_uri": "https://localhost:8080/"
        },
        "id": "Vg420soCPDlj",
        "outputId": "90ce2865-4929-4f5c-bc37-377148bd334e"
      },
      "execution_count": 106,
      "outputs": [
        {
          "output_type": "stream",
          "name": "stdout",
          "text": [
            "Validation MSE:  0.390874264522017\n",
            "Validation RMSE:  0.6251993798157649\n",
            "Validation MAE:  0.29243881369974134\n"
          ]
        }
      ]
    },
    {
      "cell_type": "code",
      "source": [
        "# Create a DataFrame with the feature importance values\n",
        "feature_importance_gbr = pd.DataFrame({'Feature': X_train.columns, 'Importance': gbr.feature_importances_})\n",
        "feature_importance_gbr = feature_importance_gbr.sort_values(by='Importance', ascending=False).reset_index(drop=True)\n",
        "feature_importance_gbr.columns = ['feat', 'imp_gbr']"
      ],
      "metadata": {
        "id": "VzhrvkhTdRT8"
      },
      "execution_count": 107,
      "outputs": []
    },
    {
      "cell_type": "markdown",
      "source": [
        "### **2.8. Random Forest**"
      ],
      "metadata": {
        "id": "5vmONZpKbmMC"
      }
    },
    {
      "cell_type": "code",
      "source": [
        "# Define the Random Forest Regression model\n",
        "#rf_reg = RandomForestRegressor(random_state=42)\n",
        "rf_reg = RandomForestRegressor(min_samples_split=3, n_estimators=215, random_state=123)\n",
        "\n",
        "# Fit the model to the training data and make predictions on the validation set\n",
        "rf_reg.fit(X_train, y_train)\n",
        "\n",
        "# Use the model to make predictions on the validation set\n",
        "y_val_pred_rf = rf_reg.predict(X_validation)\n",
        "\n",
        "# Compute the mean squared error of the predictions on the validation set\n",
        "mse_val_rf = mean_squared_error(y_validation, y_val_pred_rf, squared=True)\n",
        "rmse_val_rf = mean_squared_error(y_validation, y_val_pred_rf, squared=False)\n",
        "mae_val_rf = mean_absolute_error(y_validation, y_val_pred_rf)\n",
        "print(\"Validation MSE: \", mse_val_rf)\n",
        "print(\"Validation RMSE: \", rmse_val_rf)\n",
        "print(\"Validation MAE: \", mae_val_rf)\n",
        "\n",
        "# Use the model to make predictions on the test set\n",
        "y_test_pred_rf = rf_reg.predict(X_test)\n",
        "\n",
        "# Convert scaled predictions back to original units\n",
        "y_test_final_rf = y_test_pred_rf * train.std()[0] + train.mean()[0]\n",
        "\n",
        "igae_nowcast['rf'] = igae_nowcast['igae']\n",
        "for i in range(num_months):\n",
        "  j = i+1\n",
        "  igae_nowcast['rf'][j] = igae_nowcast['igae'][i] * (1 + y_test_final_rf[i])\n",
        "\n",
        "igae_nowcast['rf'][-3] = igae_nowcast['rf'][-4] * (1 + y_test_final_rf[-3])\n",
        "igae_nowcast['rf'][-2] = igae_nowcast['rf'][-3] * (1 + y_test_final_rf[-2])\n",
        "igae_nowcast['rf'][-1] = igae_nowcast['rf'][-2] * (1 + y_test_final_rf[-1])"
      ],
      "metadata": {
        "colab": {
          "base_uri": "https://localhost:8080/"
        },
        "id": "qOJJeIqFez5V",
        "outputId": "2af4f1f7-cec2-4690-a835-34bf79d2f6aa"
      },
      "execution_count": 108,
      "outputs": [
        {
          "output_type": "stream",
          "name": "stdout",
          "text": [
            "Validation MSE:  0.5316551753278117\n",
            "Validation RMSE:  0.7291468818611321\n",
            "Validation MAE:  0.3591653747288345\n"
          ]
        }
      ]
    },
    {
      "cell_type": "code",
      "source": [
        "# Create a DataFrame with the feature importance values\n",
        "feature_importance_rf = pd.DataFrame({'Feature': X_train.columns, 'Importance': rf_reg.feature_importances_})\n",
        "feature_importance_rf = feature_importance_rf.sort_values(by='Importance', ascending=False).reset_index(drop=True)\n",
        "feature_importance_rf.columns = ['feat', 'imp_rf']"
      ],
      "metadata": {
        "id": "yCDT1yxM85pp"
      },
      "execution_count": 109,
      "outputs": []
    },
    {
      "cell_type": "markdown",
      "source": [
        "### **2.8. Extra Trees Rregressor**"
      ],
      "metadata": {
        "id": "_6OGnl8Nm_yP"
      }
    },
    {
      "cell_type": "code",
      "source": [
        "# Define the Extra Trees Regression model\n",
        "#et_reg = ExtraTreesRegressor(random_state=42)\n",
        "et_reg = ExtraTreesRegressor(bootstrap=True, max_depth=13, max_samples=0.98, oob_score=True, random_state=42)\n",
        "\n",
        "\n",
        "# Fit the model to the training data and make predictions on the validation set\n",
        "et_reg.fit(X_train, y_train)\n",
        "\n",
        "# Use the model to make predictions on the validation set\n",
        "y_val_pred_et = et_reg.predict(X_validation)\n",
        "\n",
        "# Compute the mean squared error of the predictions on the validation set\n",
        "mse_val_et = mean_squared_error(y_validation, y_val_pred_et, squared=True)\n",
        "rmse_val_et = mean_squared_error(y_validation, y_val_pred_et, squared=False)\n",
        "mae_val_et = mean_absolute_error(y_validation, y_val_pred_et)\n",
        "print(\"Validation MSE: \", mse_val_et)\n",
        "print(\"Validation RMSE: \", rmse_val_et)\n",
        "print(\"Validation MAE: \", mae_val_et)\n",
        "\n",
        "# Use the model to make predictions on the test set\n",
        "y_test_pred_et = et_reg.predict(X_test)\n",
        "\n",
        "# Convert scaled predictions back to original units\n",
        "y_test_final_et = y_test_pred_et * train.std()[0] + train.mean()[0]\n",
        "\n",
        "igae_nowcast['et'] = igae_nowcast['igae']\n",
        "for i in range(num_months):\n",
        "  j = i+1\n",
        "  igae_nowcast['et'][j] = igae_nowcast['igae'][i] * (1 + y_test_final_et[i])\n",
        "\n",
        "igae_nowcast['et'][-3] = igae_nowcast['et'][-4] * (1 + y_test_final_et[-3])\n",
        "igae_nowcast['et'][-2] = igae_nowcast['et'][-3] * (1 + y_test_final_et[-2])\n",
        "igae_nowcast['et'][-1] = igae_nowcast['et'][-2] * (1 + y_test_final_et[-1])"
      ],
      "metadata": {
        "id": "qUv60ylfcN6S",
        "colab": {
          "base_uri": "https://localhost:8080/"
        },
        "outputId": "a6151911-65da-40f1-9d04-f21b19862640"
      },
      "execution_count": 110,
      "outputs": [
        {
          "output_type": "stream",
          "name": "stdout",
          "text": [
            "Validation MSE:  0.4961795824131694\n",
            "Validation RMSE:  0.7044001578741798\n",
            "Validation MAE:  0.3557257083203328\n"
          ]
        }
      ]
    },
    {
      "cell_type": "code",
      "source": [
        "# Create a DataFrame with the feature importance values\n",
        "feature_importance_et = pd.DataFrame({'Feature': X_train.columns, 'Importance': et_reg.feature_importances_})\n",
        "feature_importance_et = feature_importance_et.sort_values(by='Importance', ascending=False).reset_index(drop=True)\n",
        "feature_importance_et.columns = ['feat', 'imp_et']"
      ],
      "metadata": {
        "id": "3B5NuXLrA_4h"
      },
      "execution_count": 111,
      "outputs": []
    },
    {
      "cell_type": "markdown",
      "source": [
        "## **4. Feature importance**"
      ],
      "metadata": {
        "id": "RV4l5kTVBAPx"
      }
    },
    {
      "cell_type": "code",
      "source": [
        "feature_importance_all = pd.merge(feature_importance_ridge, feature_importance_lasso, on='feat', how='outer')\n",
        "feature_importance_all = pd.merge(feature_importance_all, feature_importance_en, on='feat', how='outer')\n",
        "feature_importance_all = pd.merge(feature_importance_all, feature_importance_dt, on='feat', how='outer')\n",
        "feature_importance_all = pd.merge(feature_importance_all, feature_importance_ada, on='feat', how='outer')\n",
        "feature_importance_all = pd.merge(feature_importance_all, feature_importance_gbr, on='feat', how='outer')\n",
        "feature_importance_all = pd.merge(feature_importance_all, feature_importance_rf, on='feat', how='outer')\n",
        "feature_importance_all = pd.merge(feature_importance_all, feature_importance_et, on='feat', how='outer')\n",
        "feature_importance_all = feature_importance_all.sort_values(by='imp_ridge', ascending=False)"
      ],
      "metadata": {
        "id": "t93P51mLENyA"
      },
      "execution_count": 112,
      "outputs": []
    }
  ]
}